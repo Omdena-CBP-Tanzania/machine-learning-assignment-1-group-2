{
 "cells": [
  {
   "cell_type": "markdown",
   "metadata": {},
   "source": []
  },
  {
   "cell_type": "code",
   "execution_count": null,
   "metadata": {},
   "outputs": [],
   "source": [
    "import pandas as pd\n",
    "\n",
    "# Load the dataset\n",
    "df = pd.read_csv(r'C:\\Users\\Hp\\Desktop\\work\\machine-learning-assignment-1-group-2\\student_success_dataset.csv')\n",
    "\n",
    "# Preview the dataset\n",
    "df.head()"
   ]
  },
  {
   "cell_type": "markdown",
   "metadata": {},
   "source": []
  },
  {
   "cell_type": "code",
   "execution_count": null,
   "metadata": {},
   "outputs": [],
   "source": [
    "# Checking for missing Value\n",
    "df.isnull().sum()"
   ]
  },
  {
   "cell_type": "markdown",
   "metadata": {},
   "source": []
  },
  {
   "cell_type": "markdown",
   "metadata": {},
   "source": [
    "# Normalize/standardize numerical features"
   ]
  },
  {
   "cell_type": "code",
   "execution_count": null,
   "metadata": {},
   "outputs": [],
   "source": [
    "from sklearn.preprocessing import StandardScaler\n",
    "\n",
    "# Select numerical columns to scale\n",
    "numerical_cols = [\n",
    "    'age', 'previous_gpa', 'attendance_rate', 'participation_score',\n",
    "    'assignment_completion', 'study_hours_per_week', 'digital_literacy',\n",
    "    'previous_course_failures', 'extracurricular_hours', 'work_hours_per_week',\n",
    "    'distance_from_campus'\n",
    "]\n",
    "\n",
    "scaler = StandardScaler()\n",
    "df[numerical_cols] = scaler.fit_transform(df[numerical_cols])"
   ]
  },
  {
   "cell_type": "markdown",
   "metadata": {},
   "source": [
    "### Scaling Numerical Features\n",
    "- StandardScaler was applied to numerical features to normalize them.\n",
    "- This helps linear models perform better by ensuring all numerical features have zero mean and unit variance."
   ]
  },
  {
   "cell_type": "markdown",
   "metadata": {},
   "source": [
    "# Encode categorical variables"
   ]
  },
  {
   "cell_type": "code",
   "execution_count": null,
   "metadata": {},
   "outputs": [],
   "source": [
    "# Check unique values for each categorical column\n",
    "categorical_cols = [\n",
    "    'gender', 'socioeconomic_status', 'family_support', \n",
    "    'study_resources', 'program_of_study', 'first_generation_student'\n",
    "]\n",
    "\n",
    "# Print unique values for each categorical column\n",
    "for col in categorical_cols:\n",
    "    print(f\"Unique categories in '{col}': {df[col].unique()}\")"
   ]
  },
  {
   "cell_type": "code",
   "execution_count": null,
   "metadata": {},
   "outputs": [],
   "source": [
    "# Step 1: Copy the dataframe again to be sure\n",
    "df_encoded = df.copy()\n",
    "\n",
    "# Step 2: Apply manual mappings as per your instructions\n",
    "gender_map = {'Male': 1, 'Female': 0, 'Non-binary': 2}\n",
    "socioeconomic_map = {'Low': 0, 'Middle': 1, 'High': 2}\n",
    "family_support_map = {'Low': 0, 'Medium': 1, 'High': 2}\n",
    "\n",
    "df_encoded['gender'] = df_encoded['gender'].map(gender_map)\n",
    "df_encoded['socioeconomic_status'] = df_encoded['socioeconomic_status'].map(socioeconomic_map)\n",
    "df_encoded['family_support'] = df_encoded['family_support'].map(family_support_map)\n",
    "\n",
    "# Step 3: Get dummies only for binary variables (your rule)\n",
    "df_encoded = pd.get_dummies(df_encoded, columns=['first_generation_student'], drop_first=True)\n",
    "\n",
    "# Done!\n",
    "print(df_encoded.head())"
   ]
  },
  {
   "cell_type": "markdown",
   "metadata": {},
   "source": [
    "### Encoding Categorical Variables\n",
    "- One-hot encoding was applied to categorical variables such as `gender`, `socioeconomic_status`, `family_support`, `study_resources`, and `program_of_study`.\n",
    "- `drop_first=True` was used to avoid multicollinearity."
   ]
  },
  {
   "cell_type": "markdown",
   "metadata": {},
   "source": [
    "# Document all preprocessing decisions"
   ]
  },
  {
   "cell_type": "code",
   "execution_count": null,
   "metadata": {},
   "outputs": [],
   "source": [
    "import os\n",
    "# Now save the file\n",
    "df_encoded.to_csv('student2_success_preprocessed.csv', index=False)"
   ]
  },
  {
   "cell_type": "code",
   "execution_count": null,
   "metadata": {},
   "outputs": [],
   "source": []
  }
 ],
 "metadata": {
  "kernelspec": {
   "display_name": "Python 3",
   "language": "python",
   "name": "python3"
  },
  "language_info": {
   "codemirror_mode": {
    "name": "ipython",
    "version": 3
   },
   "file_extension": ".py",
   "mimetype": "text/x-python",
   "name": "python",
   "nbconvert_exporter": "python",
   "pygments_lexer": "ipython3",
   "version": "3.12.2"
  }
 },
 "nbformat": 4,
 "nbformat_minor": 2
}
